{
  "nbformat": 4,
  "nbformat_minor": 0,
  "metadata": {
    "colab": {
      "name": "TimesJob_Scraping.ipynb",
      "provenance": [],
      "collapsed_sections": [],
      "authorship_tag": "ABX9TyPPGZE1DWLXUWgkOVPiWgdZ",
      "include_colab_link": true
    },
    "kernelspec": {
      "name": "python3",
      "display_name": "Python 3"
    },
    "language_info": {
      "name": "python"
    }
  },
  "cells": [
    {
      "cell_type": "markdown",
      "metadata": {
        "id": "view-in-github",
        "colab_type": "text"
      },
      "source": [
        "<a href=\"https://colab.research.google.com/github/PD2207/Scraping-JD/blob/main/TimesJob_Scraping.ipynb\" target=\"_parent\"><img src=\"https://colab.research.google.com/assets/colab-badge.svg\" alt=\"Open In Colab\"/></a>"
      ]
    },
    {
      "cell_type": "code",
      "metadata": {
        "colab": {
          "base_uri": "https://localhost:8080/",
          "height": 988
        },
        "id": "-2qAPuPYhhm4",
        "outputId": "ea67a198-8213-499e-daab-6e8124a4e9ce"
      },
      "source": [
        "from bs4 import BeautifulSoup\n",
        "import requests\n",
        "import time\n",
        "\n",
        "print('Enter the skills you are not familiar with')\n",
        "unfamiliar_skill = input('>')\n",
        "print(f'Filtering against {unfamiliar_skill}')\n",
        "\n",
        "def find_jobs():\n",
        "    html_text = requests.get('https://www.timesjobs.com/candidate/job-search.html?searchType=personalizedSearch&from=submit&txtKeywords=python&txtLocation=').text\n",
        "    soup = BeautifulSoup(html_text, 'lxml')\n",
        "    jobs = soup.find_all('li', class_ = 'clearfix job-bx wht-shd-bx')\n",
        "    for index, job in enumerate(jobs):\n",
        "        published_date = job.find('span', class_='sim-posted').span.text\n",
        "        if 'few' in published_date:\n",
        "            company_name = job.find('h3', class_ = 'joblist-comp-name').text.replace(' ','')\n",
        "            skills = job.find('span', class_ ='srp-skills').text.replace(' ','')\n",
        "            more_info = job.header.h2.a['href']\n",
        "            if unfamiliar_skill not in skills:\n",
        "\n",
        "              print(f\"Company Name: {company_name.strip()} \\n\")\n",
        "              print(f\"Required Skills: {skills.strip()} \\n\")\n",
        "              print(f'More Info: {more_info} \\n')\n",
        "                # to store the data in a diffrent file \n",
        "                # with open(f'data/{index}.txt', 'w') as f:\n",
        "                #     f.write(f\"Company Name: {company_name.strip()} \\n\")\n",
        "                #     f.write(f\"Required Skills: {skills.strip()} \\n\")\n",
        "                #     f.write(f'More Info: {more_info} \\n')\n",
        "                # print(f'File Saved: {index}')\n",
        "\n",
        "if __name__ == '__main__':\n",
        "    while True:\n",
        "        find_jobs()\n",
        "        time_wait = 10\n",
        "        print(f'Waiting {time_wait} minutes ')\n",
        "        time.sleep(time_wait * 60)"
      ],
      "execution_count": null,
      "outputs": [
        {
          "output_type": "stream",
          "text": [
            "Enter the skills you are not familiar with\n",
            ">django\n",
            "Filtering against django\n",
            "Company Name: SuryaInformaticsSolutionsPvt.Ltd. \n",
            "\n",
            "Required Skills: python,webtechnologies,linux,mobile,mysql,angularjs,javascript \n",
            "\n",
            "More Info: https://www.timesjobs.com/job-detail/python-surya-informatics-solutions-pvt-ltd-chennai-0-to-3-yrs-jobid-UVlLes58wutzpSvf__PLUS__uAgZw==&source=srp \n",
            "\n",
            "Company Name: GEMINISOFTWARESOLUTIONS \n",
            "\n",
            "Required Skills: python,mobile,svn,nosql,pythonscripting,git,sqldatabase \n",
            "\n",
            "More Info: https://www.timesjobs.com/job-detail/qa-python-python-sdet-gemini-software-solutions-gurgaon-4-to-7-yrs-jobid-jsOuZLK8chlzpSvf__PLUS__uAgZw==&source=srp \n",
            "\n",
            "Company Name: RandstadMENA \n",
            "\n",
            "Required Skills: python,java,technicalskills \n",
            "\n",
            "More Info: https://www.timesjobs.com/job-detail/python-developer-randstad-mena-chennai-0-to-3-yrs-jobid-YEI__SLASH__KaKJCrRzpSvf__PLUS__uAgZw==&source=srp \n",
            "\n",
            "Company Name: VisionpixTechnologiesLLP \n",
            "\n",
            "Required Skills: python,oops,technicalskills, \n",
            "\n",
            "More Info: https://www.timesjobs.com/job-detail/python-developer-visionpix-technologies-llp-bengaluru-bangalore-4-to-10-yrs-jobid-EAoyvX9td4pzpSvf__PLUS__uAgZw==&source=srp \n",
            "\n",
            "Company Name: JobsLoConsultants \n",
            "\n",
            "Required Skills: python,linux,windows,sql \n",
            "\n",
            "More Info: https://www.timesjobs.com/job-detail/python-developer-jobslo-consultants-indore-2-to-3-yrs-jobid-XP1detWpoa5zpSvf__PLUS__uAgZw==&source=srp \n",
            "\n",
            "Company Name: RandstadMENA \n",
            "\n",
            "Required Skills: python,c,oracle,database \n",
            "\n",
            "More Info: https://www.timesjobs.com/job-detail/python-testing-randstad-mena-bengaluru-bangalore-0-to-3-yrs-jobid-eOL1rxDnGktzpSvf__PLUS__uAgZw==&source=srp \n",
            "\n",
            "Company Name: ValueLabs \n",
            "\n",
            "Required Skills: python,perl,sql,datascience \n",
            "\n",
            "More Info: https://www.timesjobs.com/job-detail/python-developer-valuelabs-hyderabad-secunderabad-5-to-8-yrs-jobid-35sWmsNsvPhzpSvf__PLUS__uAgZw==&source=srp \n",
            "\n",
            "Waiting 10 seconds \n"
          ],
          "name": "stdout"
        },
        {
          "output_type": "error",
          "ename": "KeyboardInterrupt",
          "evalue": "ignored",
          "traceback": [
            "\u001b[0;31m---------------------------------------------------------------------------\u001b[0m",
            "\u001b[0;31mKeyboardInterrupt\u001b[0m                         Traceback (most recent call last)",
            "\u001b[0;32m<ipython-input-3-a85010b6be2d>\u001b[0m in \u001b[0;36m<module>\u001b[0;34m()\u001b[0m\n\u001b[1;32m     33\u001b[0m         \u001b[0mtime_wait\u001b[0m \u001b[0;34m=\u001b[0m \u001b[0;36m10\u001b[0m\u001b[0;34m\u001b[0m\u001b[0;34m\u001b[0m\u001b[0m\n\u001b[1;32m     34\u001b[0m         \u001b[0mprint\u001b[0m\u001b[0;34m(\u001b[0m\u001b[0;34mf'Waiting {time_wait} seconds '\u001b[0m\u001b[0;34m)\u001b[0m\u001b[0;34m\u001b[0m\u001b[0;34m\u001b[0m\u001b[0m\n\u001b[0;32m---> 35\u001b[0;31m         \u001b[0mtime\u001b[0m\u001b[0;34m.\u001b[0m\u001b[0msleep\u001b[0m\u001b[0;34m(\u001b[0m\u001b[0mtime_wait\u001b[0m \u001b[0;34m*\u001b[0m \u001b[0;36m60\u001b[0m\u001b[0;34m)\u001b[0m\u001b[0;34m\u001b[0m\u001b[0;34m\u001b[0m\u001b[0m\n\u001b[0m",
            "\u001b[0;31mKeyboardInterrupt\u001b[0m: "
          ]
        }
      ]
    }
  ]
}